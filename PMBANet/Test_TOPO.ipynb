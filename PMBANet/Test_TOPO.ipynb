{
 "cells": [
  {
   "cell_type": "code",
   "execution_count": 1,
   "id": "f92df8a4",
   "metadata": {},
   "outputs": [],
   "source": [
    "from __future__ import print_function\n",
    "import argparse\n",
    "import os\n",
    "import torch\n",
    "import torch.nn as nn\n",
    "import torch.optim as optim\n",
    "from torch.autograd import Variable\n",
    "from torch.utils.data import DataLoader\n",
    "from data import get_eval_set\n",
    "from functools import reduce\n",
    "import scipy.io as sio\n",
    "import time\n",
    "import imageio\n",
    "import os\n",
    "import numpy as np\n",
    "from PIL import Image\n",
    "import scipy.signal\n",
    "\n",
    "from pmpanet_x8 import Net as PMBAX8\n"
   ]
  },
  {
   "cell_type": "code",
   "execution_count": 2,
   "id": "6f4a75a6-c274-45ba-bea2-165a64e8fcfd",
   "metadata": {},
   "outputs": [],
   "source": [
    "def downsample(ar,factor):\n",
    "    kernel = np.full((factor,factor),1/(factor**2))\n",
    "    ar = scipy.signal.convolve2d(np.asarray(ar),kernel,mode='full')\n",
    "    ar = ar[factor-1::factor,factor-1::factor]\n",
    "    return ar\n",
    "                                "
   ]
  },
  {
   "cell_type": "code",
   "execution_count": 33,
   "id": "bf77f6ef",
   "metadata": {},
   "outputs": [
    {
     "name": "stderr",
     "output_type": "stream",
     "text": [
      "Lossy conversion from float64 to uint8. Range [0.0, 255.0]. Convert image to uint8 prior to saving to suppress this warning.\n"
     ]
    },
    {
     "name": "stdout",
     "output_type": "stream",
     "text": [
      "25\n",
      "25\n",
      "(136, 160)\n",
      "(1088, 1280, 3)\n"
     ]
    },
    {
     "name": "stderr",
     "output_type": "stream",
     "text": [
      "Lossy conversion from float64 to uint8. Range [0.0, 255.0]. Convert image to uint8 prior to saving to suppress this warning.\n"
     ]
    },
    {
     "name": "stdout",
     "output_type": "stream",
     "text": [
      "(136, 160)\n",
      "(1088, 1280, 3)\n"
     ]
    },
    {
     "name": "stderr",
     "output_type": "stream",
     "text": [
      "Lossy conversion from float64 to uint8. Range [0.0, 255.0]. Convert image to uint8 prior to saving to suppress this warning.\n"
     ]
    },
    {
     "name": "stdout",
     "output_type": "stream",
     "text": [
      "(136, 160)\n",
      "(1088, 1280, 3)\n"
     ]
    },
    {
     "name": "stderr",
     "output_type": "stream",
     "text": [
      "Lossy conversion from float64 to uint8. Range [0.0, 255.0]. Convert image to uint8 prior to saving to suppress this warning.\n"
     ]
    },
    {
     "name": "stdout",
     "output_type": "stream",
     "text": [
      "(136, 160)\n",
      "(1088, 1280, 3)\n"
     ]
    },
    {
     "name": "stderr",
     "output_type": "stream",
     "text": [
      "Lossy conversion from float64 to uint8. Range [0.0, 255.0]. Convert image to uint8 prior to saving to suppress this warning.\n"
     ]
    },
    {
     "name": "stdout",
     "output_type": "stream",
     "text": [
      "(136, 160)\n",
      "(1088, 1280, 3)\n"
     ]
    },
    {
     "name": "stderr",
     "output_type": "stream",
     "text": [
      "Lossy conversion from float64 to uint8. Range [0.0, 255.0]. Convert image to uint8 prior to saving to suppress this warning.\n"
     ]
    },
    {
     "name": "stdout",
     "output_type": "stream",
     "text": [
      "(136, 160)\n",
      "(1088, 1280, 3)\n"
     ]
    },
    {
     "name": "stderr",
     "output_type": "stream",
     "text": [
      "Lossy conversion from float64 to uint8. Range [0.0, 255.0]. Convert image to uint8 prior to saving to suppress this warning.\n"
     ]
    },
    {
     "name": "stdout",
     "output_type": "stream",
     "text": [
      "(136, 160)\n",
      "(1088, 1280, 3)\n"
     ]
    },
    {
     "name": "stderr",
     "output_type": "stream",
     "text": [
      "Lossy conversion from float64 to uint8. Range [0.0, 255.0]. Convert image to uint8 prior to saving to suppress this warning.\n"
     ]
    },
    {
     "name": "stdout",
     "output_type": "stream",
     "text": [
      "(136, 160)\n",
      "(1088, 1280, 3)\n"
     ]
    },
    {
     "name": "stderr",
     "output_type": "stream",
     "text": [
      "Lossy conversion from float64 to uint8. Range [0.0, 255.0]. Convert image to uint8 prior to saving to suppress this warning.\n"
     ]
    },
    {
     "name": "stdout",
     "output_type": "stream",
     "text": [
      "(136, 160)\n",
      "(1088, 1280, 3)\n"
     ]
    },
    {
     "name": "stderr",
     "output_type": "stream",
     "text": [
      "Lossy conversion from float64 to uint8. Range [0.0, 255.0]. Convert image to uint8 prior to saving to suppress this warning.\n"
     ]
    },
    {
     "name": "stdout",
     "output_type": "stream",
     "text": [
      "(136, 160)\n",
      "(1088, 1280, 3)\n"
     ]
    },
    {
     "name": "stderr",
     "output_type": "stream",
     "text": [
      "Lossy conversion from float64 to uint8. Range [0.0, 255.0]. Convert image to uint8 prior to saving to suppress this warning.\n"
     ]
    },
    {
     "name": "stdout",
     "output_type": "stream",
     "text": [
      "(136, 160)\n",
      "(1088, 1280, 3)\n"
     ]
    },
    {
     "name": "stderr",
     "output_type": "stream",
     "text": [
      "Lossy conversion from float64 to uint8. Range [0.0, 255.0]. Convert image to uint8 prior to saving to suppress this warning.\n"
     ]
    },
    {
     "name": "stdout",
     "output_type": "stream",
     "text": [
      "(136, 160)\n",
      "(1088, 1280, 3)\n"
     ]
    },
    {
     "name": "stderr",
     "output_type": "stream",
     "text": [
      "Lossy conversion from float64 to uint8. Range [0.0, 255.0]. Convert image to uint8 prior to saving to suppress this warning.\n"
     ]
    },
    {
     "name": "stdout",
     "output_type": "stream",
     "text": [
      "(136, 160)\n",
      "(1088, 1280, 3)\n"
     ]
    },
    {
     "name": "stderr",
     "output_type": "stream",
     "text": [
      "Lossy conversion from float64 to uint8. Range [0.0, 255.0]. Convert image to uint8 prior to saving to suppress this warning.\n"
     ]
    },
    {
     "name": "stdout",
     "output_type": "stream",
     "text": [
      "(136, 160)\n",
      "(1088, 1280, 3)\n"
     ]
    },
    {
     "name": "stderr",
     "output_type": "stream",
     "text": [
      "Lossy conversion from float64 to uint8. Range [0.0, 255.0]. Convert image to uint8 prior to saving to suppress this warning.\n"
     ]
    },
    {
     "name": "stdout",
     "output_type": "stream",
     "text": [
      "(136, 160)\n",
      "(1088, 1280, 3)\n"
     ]
    },
    {
     "name": "stderr",
     "output_type": "stream",
     "text": [
      "Lossy conversion from float64 to uint8. Range [0.0, 255.0]. Convert image to uint8 prior to saving to suppress this warning.\n"
     ]
    },
    {
     "name": "stdout",
     "output_type": "stream",
     "text": [
      "(136, 160)\n",
      "(1088, 1280, 3)\n"
     ]
    },
    {
     "name": "stderr",
     "output_type": "stream",
     "text": [
      "Lossy conversion from float64 to uint8. Range [0.0, 255.0]. Convert image to uint8 prior to saving to suppress this warning.\n"
     ]
    },
    {
     "name": "stdout",
     "output_type": "stream",
     "text": [
      "(136, 160)\n",
      "(1088, 1280, 3)\n"
     ]
    },
    {
     "name": "stderr",
     "output_type": "stream",
     "text": [
      "Lossy conversion from float64 to uint8. Range [0.0, 255.0]. Convert image to uint8 prior to saving to suppress this warning.\n"
     ]
    },
    {
     "name": "stdout",
     "output_type": "stream",
     "text": [
      "(136, 160)\n",
      "(1088, 1280, 3)\n"
     ]
    },
    {
     "name": "stderr",
     "output_type": "stream",
     "text": [
      "Lossy conversion from float64 to uint8. Range [0.0, 255.0]. Convert image to uint8 prior to saving to suppress this warning.\n"
     ]
    },
    {
     "name": "stdout",
     "output_type": "stream",
     "text": [
      "(136, 160)\n",
      "(1088, 1280, 3)\n"
     ]
    },
    {
     "name": "stderr",
     "output_type": "stream",
     "text": [
      "Lossy conversion from float64 to uint8. Range [0.0, 255.0]. Convert image to uint8 prior to saving to suppress this warning.\n"
     ]
    },
    {
     "name": "stdout",
     "output_type": "stream",
     "text": [
      "(136, 160)\n",
      "(1088, 1280, 3)\n"
     ]
    },
    {
     "name": "stderr",
     "output_type": "stream",
     "text": [
      "Lossy conversion from float64 to uint8. Range [0.0, 255.0]. Convert image to uint8 prior to saving to suppress this warning.\n"
     ]
    },
    {
     "name": "stdout",
     "output_type": "stream",
     "text": [
      "(136, 160)\n",
      "(1088, 1280, 3)\n"
     ]
    },
    {
     "name": "stderr",
     "output_type": "stream",
     "text": [
      "Lossy conversion from float64 to uint8. Range [0.0, 255.0]. Convert image to uint8 prior to saving to suppress this warning.\n"
     ]
    },
    {
     "name": "stdout",
     "output_type": "stream",
     "text": [
      "(136, 160)\n",
      "(1088, 1280, 3)\n"
     ]
    },
    {
     "name": "stderr",
     "output_type": "stream",
     "text": [
      "Lossy conversion from float64 to uint8. Range [0.0, 255.0]. Convert image to uint8 prior to saving to suppress this warning.\n"
     ]
    },
    {
     "name": "stdout",
     "output_type": "stream",
     "text": [
      "(136, 160)\n",
      "(1088, 1280, 3)\n"
     ]
    },
    {
     "name": "stderr",
     "output_type": "stream",
     "text": [
      "Lossy conversion from float64 to uint8. Range [0.0, 255.0]. Convert image to uint8 prior to saving to suppress this warning.\n"
     ]
    },
    {
     "name": "stdout",
     "output_type": "stream",
     "text": [
      "(136, 160)\n",
      "(1088, 1280, 3)\n"
     ]
    },
    {
     "name": "stderr",
     "output_type": "stream",
     "text": [
      "Lossy conversion from float64 to uint8. Range [0.0, 255.0]. Convert image to uint8 prior to saving to suppress this warning.\n"
     ]
    },
    {
     "name": "stdout",
     "output_type": "stream",
     "text": [
      "(136, 160)\n",
      "(1088, 1280, 3)\n"
     ]
    }
   ],
   "source": [
    "# Create folder of png for the lr depth\n",
    "directory = '/home/beast2020/Desktop/mingchi'\n",
    "\n",
    "# rgb_dir = directory+'/EPFL_10_newsample_nadir/rgb/'\n",
    "# rgb_dir = directory+'/EPFL_10_newsample_ob/rgb/'\n",
    "# rgb_dir = directory+'/comballaz_nadir/rgb/'\n",
    "rgb_dir = directory+'/comballaz_oblique/rgb/'\n",
    "_files = os.listdir(rgb_dir)\n",
    "_files.sort()\n",
    "_rgb_files = [rgb_dir + f for f in _files]\n",
    "_rgb_files.sort()\n",
    "print(len(_rgb_files))\n",
    "\n",
    "# dist_dir = directory+'/EPFL_10_newsample_nadir/dist/'\n",
    "# dist_dir = directory+'/EPFL_10_newsample_ob/dist/'\n",
    "# dist_dir = directory+'/comballaz_nadir/dist/'\n",
    "dist_dir = directory+'/comballaz_oblique/dist/'\n",
    "_files = os.listdir(dist_dir)\n",
    "_files.sort()\n",
    "_dist_files = [dist_dir + f for f in _files]\n",
    "_dist_files.sort()\n",
    "print(len(_dist_files))\n",
    "\n",
    "\n",
    "for num in range(len(_dist_files)):\n",
    "    dist_img = torch.load(_dist_files[num])\n",
    "    dist_img = dist_img.detach().cpu().numpy()\n",
    "    down_img = downsample(dist_img,8)\n",
    "    \n",
    "    temp = np.zeros((136,160))\n",
    "    temp[:60,:90] = down_img\n",
    "    print(temp.shape)\n",
    "    im = Image.fromarray(temp)\n",
    "    im = im.convert('L')\n",
    "#     im.save(directory+'/EPFL_10_newsample_nadir/distpng/'+str(num)+'.png')\n",
    "#     im.save(directory+'/EPFL_10_newsample_ob/distpng/'+str(num)+'.png')\n",
    "#     im.save(directory+'/comballaz_nadir/distpng/'+str(num)+'.png')\n",
    "    im.save(directory+'/comballaz_oblique/distpng/'+str(num)+'.png')\n",
    "    \n",
    "    rgb_img = imageio.imread(_rgb_files[num])\n",
    "    temp2 = np.zeros((1088,1280,3))\n",
    "    temp2[:480,:720,:] = rgb_img\n",
    "    print(temp2.shape)\n",
    "#     imageio.imsave(directory+'/EPFL_10_newsample_nadir/rgbpng/'+str(num)+'.png',temp2)\n",
    "#     imageio.imsave(directory+'/EPFL_10_newsample_ob/rgbpng/'+str(num)+'.png',temp2)\n",
    "#     imageio.imsave(directory+'/comballaz_nadir/rgbpng/'+str(num)+'.png',temp2)\n",
    "    imageio.imsave(directory+'/comballaz_oblique/rgbpng/'+str(num)+'.png',temp2)\n"
   ]
  },
  {
   "cell_type": "code",
   "execution_count": null,
   "id": "6e55041a-fafd-4a0a-8e89-f38bd73a232e",
   "metadata": {},
   "outputs": [],
   "source": []
  },
  {
   "cell_type": "code",
   "execution_count": null,
   "id": "229fc76f-25be-4f24-a1e2-1980ffaf5ad4",
   "metadata": {},
   "outputs": [],
   "source": []
  },
  {
   "cell_type": "code",
   "execution_count": null,
   "id": "575a3f66",
   "metadata": {},
   "outputs": [],
   "source": []
  },
  {
   "cell_type": "code",
   "execution_count": 34,
   "id": "721f4a0b",
   "metadata": {},
   "outputs": [],
   "source": [
    "def save_img(img, img_name):\n",
    "\n",
    "    save_img = img.squeeze().clamp(0, 1).numpy()\n",
    "\n",
    "    save_dir=os.path.join(opt.output,opt.test_dataset)\n",
    "    if not os.path.exists(save_dir):\n",
    "        os.makedirs(save_dir)\n",
    "        \n",
    "    save_fn = save_dir +'/'+ img_name\n",
    "    imageio.imwrite(save_fn,save_img*255)"
   ]
  },
  {
   "cell_type": "code",
   "execution_count": null,
   "id": "7fb95ab1",
   "metadata": {},
   "outputs": [],
   "source": []
  },
  {
   "cell_type": "code",
   "execution_count": null,
   "id": "8f1d1415",
   "metadata": {},
   "outputs": [],
   "source": []
  },
  {
   "cell_type": "code",
   "execution_count": 35,
   "id": "3fbf3650",
   "metadata": {},
   "outputs": [],
   "source": [
    "# # Testing settings EPFL nadir\n",
    "# parser = argparse.ArgumentParser(description='PyTorch Super Res Example')\n",
    "# parser.add_argument('--upscale_factor', type=int, default=8, help=\"super resolution upscale factor\")\n",
    "# parser.add_argument('--testBatchSize', type=int, default=1, help='testing batch size')\n",
    "# parser.add_argument('--gpu_mode', type=bool, default=False)\n",
    "# parser.add_argument('--threads', type=int, default=1, help='number of threads for data loader to use')\n",
    "# parser.add_argument('--seed', type=int, default=123, help='random seed to use. Default=123')\n",
    "# parser.add_argument('--gpus', default=1, type=float, help='number of gpu')\n",
    "# parser.add_argument('--input_dir', type=str, default='/home/beast2020/Desktop/mingchi/')\n",
    "# parser.add_argument('--output', default='EPFL_10_newsample_nadir/Results/', help='Location to save checkpoint models')\n",
    "# parser.add_argument('--test_dataset', type=str, default='EPFL_10_newsample_nadir/distpng/')\n",
    "# parser.add_argument('--test_rgb_dataset', type=str, default='EPFL_10_newsample_nadir/rgbpng/')\n",
    "# parser.add_argument('--model_type', type=str, default='PMBAX8')\n",
    "# parser.add_argument('--model', default=\"./pre_train_model/PMBA_color_x8.pth\", help='pretrained x8 model')\n",
    "\n",
    "# opt = parser.parse_args(\"\")\n",
    "\n",
    "# gpus_list=range(opt.gpus)\n",
    "# print(opt)\n"
   ]
  },
  {
   "cell_type": "code",
   "execution_count": 36,
   "id": "42975088-8708-4972-bf7b-ccd8340ee7f9",
   "metadata": {},
   "outputs": [],
   "source": [
    "# # Testing settings EPFL oblique\n",
    "# parser = argparse.ArgumentParser(description='PyTorch Super Res Example')\n",
    "# parser.add_argument('--upscale_factor', type=int, default=8, help=\"super resolution upscale factor\")\n",
    "# parser.add_argument('--testBatchSize', type=int, default=1, help='testing batch size')\n",
    "# parser.add_argument('--gpu_mode', type=bool, default=False)\n",
    "# parser.add_argument('--threads', type=int, default=1, help='number of threads for data loader to use')\n",
    "# parser.add_argument('--seed', type=int, default=123, help='random seed to use. Default=123')\n",
    "# parser.add_argument('--gpus', default=1, type=float, help='number of gpu')\n",
    "# parser.add_argument('--input_dir', type=str, default='/home/beast2020/Desktop/mingchi/')\n",
    "# parser.add_argument('--output', default='EPFL_10_newsample_ob/Results/', help='Location to save checkpoint models')\n",
    "# parser.add_argument('--test_dataset', type=str, default='EPFL_10_newsample_ob/distpng/')\n",
    "# parser.add_argument('--test_rgb_dataset', type=str, default='EPFL_10_newsample_ob/rgbpng/')\n",
    "# parser.add_argument('--model_type', type=str, default='PMBAX8')\n",
    "# parser.add_argument('--model', default=\"./pre_train_model/PMBA_color_x8.pth\", help='pretrained x8 model')\n",
    "\n",
    "# opt = parser.parse_args(\"\")\n",
    "\n",
    "# gpus_list=range(opt.gpus)\n",
    "# print(opt)\n"
   ]
  },
  {
   "cell_type": "code",
   "execution_count": 37,
   "id": "17e63dab-a3fe-4e0c-a3cb-c5ceda93790b",
   "metadata": {},
   "outputs": [],
   "source": [
    "# # Testing settings comballz nadir\n",
    "# parser = argparse.ArgumentParser(description='PyTorch Super Res Example')\n",
    "# parser.add_argument('--upscale_factor', type=int, default=8, help=\"super resolution upscale factor\")\n",
    "# parser.add_argument('--testBatchSize', type=int, default=1, help='testing batch size')\n",
    "# parser.add_argument('--gpu_mode', type=bool, default=False)\n",
    "# parser.add_argument('--threads', type=int, default=1, help='number of threads for data loader to use')\n",
    "# parser.add_argument('--seed', type=int, default=123, help='random seed to use. Default=123')\n",
    "# parser.add_argument('--gpus', default=1, type=float, help='number of gpu')\n",
    "# parser.add_argument('--input_dir', type=str, default='/home/beast2020/Desktop/mingchi/')\n",
    "# parser.add_argument('--output', default='comballaz_nadir/Results/', help='Location to save checkpoint models')\n",
    "# parser.add_argument('--test_dataset', type=str, default='comballaz_nadir/distpng/')\n",
    "# parser.add_argument('--test_rgb_dataset', type=str, default='comballaz_nadir/rgbpng/')\n",
    "# parser.add_argument('--model_type', type=str, default='PMBAX8')\n",
    "# parser.add_argument('--model', default=\"./pre_train_model/PMBA_color_x8.pth\", help='pretrained x8 model')\n",
    "\n",
    "# opt = parser.parse_args(\"\")\n",
    "\n",
    "# gpus_list=range(opt.gpus)\n",
    "# print(opt)"
   ]
  },
  {
   "cell_type": "code",
   "execution_count": 38,
   "id": "dd187bbe-c444-4f58-9875-a964fd4f4c33",
   "metadata": {},
   "outputs": [
    {
     "name": "stdout",
     "output_type": "stream",
     "text": [
      "Namespace(gpu_mode=False, gpus=1, input_dir='/home/beast2020/Desktop/mingchi/', model='./pre_train_model/PMBA_color_x8.pth', model_type='PMBAX8', output='comballaz_oblique/Results/', seed=123, testBatchSize=1, test_dataset='comballaz_oblique/distpng/', test_rgb_dataset='comballaz_oblique/rgbpng/', threads=1, upscale_factor=8)\n"
     ]
    }
   ],
   "source": [
    "# Testing settings comballz oblique\n",
    "parser = argparse.ArgumentParser(description='PyTorch Super Res Example')\n",
    "parser.add_argument('--upscale_factor', type=int, default=8, help=\"super resolution upscale factor\")\n",
    "parser.add_argument('--testBatchSize', type=int, default=1, help='testing batch size')\n",
    "parser.add_argument('--gpu_mode', type=bool, default=False)\n",
    "parser.add_argument('--threads', type=int, default=1, help='number of threads for data loader to use')\n",
    "parser.add_argument('--seed', type=int, default=123, help='random seed to use. Default=123')\n",
    "parser.add_argument('--gpus', default=1, type=float, help='number of gpu')\n",
    "parser.add_argument('--input_dir', type=str, default='/home/beast2020/Desktop/mingchi/')\n",
    "parser.add_argument('--output', default='comballaz_oblique/Results/', help='Location to save checkpoint models')\n",
    "parser.add_argument('--test_dataset', type=str, default='comballaz_oblique/distpng/')\n",
    "parser.add_argument('--test_rgb_dataset', type=str, default='comballaz_oblique/rgbpng/')\n",
    "parser.add_argument('--model_type', type=str, default='PMBAX8')\n",
    "parser.add_argument('--model', default=\"./pre_train_model/PMBA_color_x8.pth\", help='pretrained x8 model')\n",
    "\n",
    "opt = parser.parse_args(\"\")\n",
    "\n",
    "gpus_list=range(opt.gpus)\n",
    "print(opt)"
   ]
  },
  {
   "cell_type": "code",
   "execution_count": null,
   "id": "9ad1dabe-06a5-4dcf-9211-7186a474afec",
   "metadata": {},
   "outputs": [],
   "source": []
  },
  {
   "cell_type": "code",
   "execution_count": 39,
   "id": "f1b0a9d8",
   "metadata": {},
   "outputs": [
    {
     "name": "stdout",
     "output_type": "stream",
     "text": [
      "===> Loading datasets\n",
      "===> Building model\n",
      "Pre-trained x8 model is loaded.<---------------------------->\n"
     ]
    }
   ],
   "source": [
    "\n",
    "cuda = opt.gpu_mode\n",
    "if cuda and not torch.cuda.is_available():\n",
    "    raise Exception(\"No GPU found, please run without --cuda\")\n",
    "\n",
    "torch.manual_seed(opt.seed)\n",
    "if cuda:\n",
    "    torch.cuda.manual_seed(opt.seed)\n",
    "\n",
    "print('===> Loading datasets')\n",
    "test_set = get_eval_set(os.path.join(opt.input_dir,opt.test_dataset),os.path.join(opt.input_dir,opt.test_rgb_dataset))\n",
    "testing_data_loader = DataLoader(dataset=test_set, batch_size=opt.testBatchSize, shuffle=False)\n",
    "\n",
    "print('===> Building model')\n",
    "if opt.model_type == 'PMBAX8':\n",
    "    model = PMBAX8(num_channels=1, base_filter=64,  feat = 256, num_stages=3, scale_factor=opt.upscale_factor) ##For NTIRE2018\n",
    "else:\n",
    "    model = PMBAX8(base_filter=64,  feat = 256, num_stages=5, scale_factor=opt.upscale_factor) ###D-DBPN\n",
    "####\n",
    "if cuda:\n",
    "    model = torch.nn.DataParallel(model, device_ids=gpus_list)\n",
    "\n",
    "if os.path.exists(opt.model):\n",
    "    model.load_state_dict(torch.load(opt.model, map_location=lambda storage, loc: storage))\n",
    "    print('Pre-trained x8 model is loaded.<---------------------------->')\n",
    "\n",
    "if cuda:\n",
    "    model = model.cuda(gpus_list[0])\n",
    "\n"
   ]
  },
  {
   "cell_type": "code",
   "execution_count": 40,
   "id": "83a2d1d0",
   "metadata": {},
   "outputs": [
    {
     "data": {
      "text/plain": [
       "<torch.autograd.grad_mode.set_grad_enabled at 0x7fc3f87c7550>"
      ]
     },
     "execution_count": 40,
     "metadata": {},
     "output_type": "execute_result"
    }
   ],
   "source": [
    "model.eval()\n",
    "torch.set_grad_enabled(False)\n"
   ]
  },
  {
   "cell_type": "code",
   "execution_count": 41,
   "id": "b7bc6806",
   "metadata": {},
   "outputs": [
    {
     "name": "stderr",
     "output_type": "stream",
     "text": [
      "/tmp/ipykernel_1942169/1991822337.py:2: UserWarning: volatile was removed and now has no effect. Use `with torch.no_grad():` instead.\n",
      "  input_i,input_rgb, name = Variable(batch[0],volatile=True),Variable(batch[1],volatile=True), batch[2]\n",
      "Lossy conversion from float32 to uint8. Range [0.0, 255.0]. Convert image to uint8 prior to saving to suppress this warning.\n"
     ]
    },
    {
     "name": "stdout",
     "output_type": "stream",
     "text": [
      "===> Processing: 20.png || Timer: 28.2906 sec.\n"
     ]
    },
    {
     "name": "stderr",
     "output_type": "stream",
     "text": [
      "Lossy conversion from float32 to uint8. Range [0.5202622413635254, 255.0]. Convert image to uint8 prior to saving to suppress this warning.\n"
     ]
    },
    {
     "name": "stdout",
     "output_type": "stream",
     "text": [
      "===> Processing: 18.png || Timer: 28.3753 sec.\n"
     ]
    },
    {
     "name": "stderr",
     "output_type": "stream",
     "text": [
      "Lossy conversion from float32 to uint8. Range [2.2508544921875, 174.03627014160156]. Convert image to uint8 prior to saving to suppress this warning.\n"
     ]
    },
    {
     "name": "stdout",
     "output_type": "stream",
     "text": [
      "===> Processing: 19.png || Timer: 28.4052 sec.\n"
     ]
    },
    {
     "name": "stderr",
     "output_type": "stream",
     "text": [
      "Lossy conversion from float32 to uint8. Range [0.0, 255.0]. Convert image to uint8 prior to saving to suppress this warning.\n"
     ]
    },
    {
     "name": "stdout",
     "output_type": "stream",
     "text": [
      "===> Processing: 16.png || Timer: 27.8657 sec.\n"
     ]
    },
    {
     "name": "stderr",
     "output_type": "stream",
     "text": [
      "Lossy conversion from float32 to uint8. Range [1.0784947872161865, 255.0]. Convert image to uint8 prior to saving to suppress this warning.\n"
     ]
    },
    {
     "name": "stdout",
     "output_type": "stream",
     "text": [
      "===> Processing: 21.png || Timer: 28.2347 sec.\n"
     ]
    },
    {
     "name": "stderr",
     "output_type": "stream",
     "text": [
      "Lossy conversion from float32 to uint8. Range [0.0, 255.0]. Convert image to uint8 prior to saving to suppress this warning.\n"
     ]
    },
    {
     "name": "stdout",
     "output_type": "stream",
     "text": [
      "===> Processing: 12.png || Timer: 28.3246 sec.\n"
     ]
    },
    {
     "name": "stderr",
     "output_type": "stream",
     "text": [
      "Lossy conversion from float32 to uint8. Range [0.0, 255.0]. Convert image to uint8 prior to saving to suppress this warning.\n"
     ]
    },
    {
     "name": "stdout",
     "output_type": "stream",
     "text": [
      "===> Processing: 10.png || Timer: 28.1747 sec.\n"
     ]
    },
    {
     "name": "stderr",
     "output_type": "stream",
     "text": [
      "Lossy conversion from float32 to uint8. Range [0.0, 255.0]. Convert image to uint8 prior to saving to suppress this warning.\n"
     ]
    },
    {
     "name": "stdout",
     "output_type": "stream",
     "text": [
      "===> Processing: 8.png || Timer: 28.2562 sec.\n"
     ]
    },
    {
     "name": "stderr",
     "output_type": "stream",
     "text": [
      "Lossy conversion from float32 to uint8. Range [0.0, 255.0]. Convert image to uint8 prior to saving to suppress this warning.\n"
     ]
    },
    {
     "name": "stdout",
     "output_type": "stream",
     "text": [
      "===> Processing: 13.png || Timer: 28.2511 sec.\n"
     ]
    },
    {
     "name": "stderr",
     "output_type": "stream",
     "text": [
      "Lossy conversion from float32 to uint8. Range [0.0, 255.0]. Convert image to uint8 prior to saving to suppress this warning.\n"
     ]
    },
    {
     "name": "stdout",
     "output_type": "stream",
     "text": [
      "===> Processing: 15.png || Timer: 27.9056 sec.\n"
     ]
    },
    {
     "name": "stderr",
     "output_type": "stream",
     "text": [
      "Lossy conversion from float32 to uint8. Range [0.0, 255.0]. Convert image to uint8 prior to saving to suppress this warning.\n"
     ]
    },
    {
     "name": "stdout",
     "output_type": "stream",
     "text": [
      "===> Processing: 3.png || Timer: 28.0589 sec.\n"
     ]
    },
    {
     "name": "stderr",
     "output_type": "stream",
     "text": [
      "Lossy conversion from float32 to uint8. Range [0.0, 255.0]. Convert image to uint8 prior to saving to suppress this warning.\n"
     ]
    },
    {
     "name": "stdout",
     "output_type": "stream",
     "text": [
      "===> Processing: 22.png || Timer: 28.0950 sec.\n"
     ]
    },
    {
     "name": "stderr",
     "output_type": "stream",
     "text": [
      "Lossy conversion from float32 to uint8. Range [0.0, 255.0]. Convert image to uint8 prior to saving to suppress this warning.\n"
     ]
    },
    {
     "name": "stdout",
     "output_type": "stream",
     "text": [
      "===> Processing: 4.png || Timer: 28.7440 sec.\n"
     ]
    },
    {
     "name": "stderr",
     "output_type": "stream",
     "text": [
      "Lossy conversion from float32 to uint8. Range [0.0, 255.0]. Convert image to uint8 prior to saving to suppress this warning.\n"
     ]
    },
    {
     "name": "stdout",
     "output_type": "stream",
     "text": [
      "===> Processing: 6.png || Timer: 28.2425 sec.\n"
     ]
    },
    {
     "name": "stderr",
     "output_type": "stream",
     "text": [
      "Lossy conversion from float32 to uint8. Range [0.0, 255.0]. Convert image to uint8 prior to saving to suppress this warning.\n"
     ]
    },
    {
     "name": "stdout",
     "output_type": "stream",
     "text": [
      "===> Processing: 17.png || Timer: 28.2686 sec.\n"
     ]
    },
    {
     "name": "stderr",
     "output_type": "stream",
     "text": [
      "Lossy conversion from float32 to uint8. Range [0.0, 255.0]. Convert image to uint8 prior to saving to suppress this warning.\n"
     ]
    },
    {
     "name": "stdout",
     "output_type": "stream",
     "text": [
      "===> Processing: 24.png || Timer: 28.4201 sec.\n"
     ]
    },
    {
     "name": "stderr",
     "output_type": "stream",
     "text": [
      "Lossy conversion from float32 to uint8. Range [0.0, 255.0]. Convert image to uint8 prior to saving to suppress this warning.\n"
     ]
    },
    {
     "name": "stdout",
     "output_type": "stream",
     "text": [
      "===> Processing: 2.png || Timer: 28.3753 sec.\n"
     ]
    },
    {
     "name": "stderr",
     "output_type": "stream",
     "text": [
      "Lossy conversion from float32 to uint8. Range [0.0, 255.0]. Convert image to uint8 prior to saving to suppress this warning.\n"
     ]
    },
    {
     "name": "stdout",
     "output_type": "stream",
     "text": [
      "===> Processing: 11.png || Timer: 28.3886 sec.\n"
     ]
    },
    {
     "name": "stderr",
     "output_type": "stream",
     "text": [
      "Lossy conversion from float32 to uint8. Range [0.0, 255.0]. Convert image to uint8 prior to saving to suppress this warning.\n"
     ]
    },
    {
     "name": "stdout",
     "output_type": "stream",
     "text": [
      "===> Processing: 23.png || Timer: 28.3692 sec.\n"
     ]
    },
    {
     "name": "stderr",
     "output_type": "stream",
     "text": [
      "Lossy conversion from float32 to uint8. Range [0.0, 255.0]. Convert image to uint8 prior to saving to suppress this warning.\n"
     ]
    },
    {
     "name": "stdout",
     "output_type": "stream",
     "text": [
      "===> Processing: 9.png || Timer: 28.2753 sec.\n"
     ]
    },
    {
     "name": "stderr",
     "output_type": "stream",
     "text": [
      "Lossy conversion from float32 to uint8. Range [0.0, 255.0]. Convert image to uint8 prior to saving to suppress this warning.\n"
     ]
    },
    {
     "name": "stdout",
     "output_type": "stream",
     "text": [
      "===> Processing: 14.png || Timer: 28.1330 sec.\n"
     ]
    },
    {
     "name": "stderr",
     "output_type": "stream",
     "text": [
      "Lossy conversion from float32 to uint8. Range [0.0, 255.0]. Convert image to uint8 prior to saving to suppress this warning.\n"
     ]
    },
    {
     "name": "stdout",
     "output_type": "stream",
     "text": [
      "===> Processing: 0.png || Timer: 28.2483 sec.\n"
     ]
    },
    {
     "name": "stderr",
     "output_type": "stream",
     "text": [
      "Lossy conversion from float32 to uint8. Range [0.0, 255.0]. Convert image to uint8 prior to saving to suppress this warning.\n"
     ]
    },
    {
     "name": "stdout",
     "output_type": "stream",
     "text": [
      "===> Processing: 5.png || Timer: 28.4207 sec.\n"
     ]
    },
    {
     "name": "stderr",
     "output_type": "stream",
     "text": [
      "Lossy conversion from float32 to uint8. Range [0.0, 255.0]. Convert image to uint8 prior to saving to suppress this warning.\n"
     ]
    },
    {
     "name": "stdout",
     "output_type": "stream",
     "text": [
      "===> Processing: 1.png || Timer: 28.2873 sec.\n"
     ]
    },
    {
     "name": "stderr",
     "output_type": "stream",
     "text": [
      "Lossy conversion from float32 to uint8. Range [0.0, 255.0]. Convert image to uint8 prior to saving to suppress this warning.\n"
     ]
    },
    {
     "name": "stdout",
     "output_type": "stream",
     "text": [
      "===> Processing: 7.png || Timer: 28.3238 sec.\n"
     ]
    }
   ],
   "source": [
    "\n",
    "for batch in testing_data_loader:\n",
    "    input_i,input_rgb, name = Variable(batch[0],volatile=True),Variable(batch[1],volatile=True), batch[2]\n",
    "    if cuda:\n",
    "        input_i = input_i.cuda(gpus_list[0])\n",
    "        input_rgb = input_rgb.cuda(gpus_list[0])\n",
    "    t0 = time.time()\n",
    "    prediction = model(input_rgb,input_i)\n",
    "    t1 = time.time()\n",
    "    print(\"===> Processing: %s || Timer: %.4f sec.\" % (name[0], (t1 - t0)))\n",
    "    save_img(prediction.cpu().data, name[0])\n",
    "\n",
    "\n"
   ]
  },
  {
   "cell_type": "code",
   "execution_count": 9,
   "id": "1da06126-a873-439c-97c3-a44950e53b35",
   "metadata": {},
   "outputs": [
    {
     "data": {
      "text/plain": [
       "torch.Size([1, 1, 60, 90])"
      ]
     },
     "execution_count": 9,
     "metadata": {},
     "output_type": "execute_result"
    }
   ],
   "source": []
  },
  {
   "cell_type": "code",
   "execution_count": 10,
   "id": "9fc6f9ab",
   "metadata": {},
   "outputs": [
    {
     "data": {
      "text/plain": [
       "torch.Size([1, 3, 480, 720])"
      ]
     },
     "execution_count": 10,
     "metadata": {},
     "output_type": "execute_result"
    }
   ],
   "source": []
  },
  {
   "cell_type": "code",
   "execution_count": null,
   "id": "510c8a9c",
   "metadata": {},
   "outputs": [],
   "source": []
  },
  {
   "cell_type": "code",
   "execution_count": null,
   "id": "85862ddb",
   "metadata": {},
   "outputs": [],
   "source": []
  },
  {
   "cell_type": "code",
   "execution_count": null,
   "id": "85dfc536",
   "metadata": {},
   "outputs": [],
   "source": []
  },
  {
   "cell_type": "code",
   "execution_count": null,
   "id": "34f8c0cc",
   "metadata": {},
   "outputs": [],
   "source": []
  }
 ],
 "metadata": {
  "kernelspec": {
   "display_name": "Python 3 (ipykernel)",
   "language": "python",
   "name": "python3"
  },
  "language_info": {
   "codemirror_mode": {
    "name": "ipython",
    "version": 3
   },
   "file_extension": ".py",
   "mimetype": "text/x-python",
   "name": "python",
   "nbconvert_exporter": "python",
   "pygments_lexer": "ipython3",
   "version": "3.8.8"
  }
 },
 "nbformat": 4,
 "nbformat_minor": 5
}
