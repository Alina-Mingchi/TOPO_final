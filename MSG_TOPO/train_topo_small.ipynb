{
 "cells": [
  {
   "cell_type": "code",
   "execution_count": 1,
   "id": "324def0c",
   "metadata": {},
   "outputs": [
    {
     "name": "stdout",
     "output_type": "stream",
     "text": [
      "['/Users/felicity/Desktop/MSG_TOPO', '/Library/Frameworks/Python.framework/Versions/3.7/lib/python37.zip', '/Library/Frameworks/Python.framework/Versions/3.7/lib/python3.7', '/Library/Frameworks/Python.framework/Versions/3.7/lib/python3.7/lib-dynload', '', '/Library/Frameworks/Python.framework/Versions/3.7/lib/python3.7/site-packages', '/Library/Frameworks/Python.framework/Versions/3.7/lib/python3.7/site-packages/IPython/extensions', '/Users/felicity/.ipython', './src', '/usr/lib/python3/dist-packages']\n"
     ]
    }
   ],
   "source": [
    "import sys\n",
    "import numpy as np\n",
    "from matplotlib import pyplot as plt\n",
    "import scipy.signal\n",
    "sys.path.append('./src')\n",
    "sys.path.append('/usr/lib/python3/dist-packages')\n",
    "print(sys.path)\n",
    "from msg.msg import MSGNet\n",
    "import os\n",
    "os.environ[\"CC\"] = \"gcc\"\n",
    "os.environ[\"CXX\"] = \"gcc\"\n",
    "\n",
    "import imageio\n",
    "import torch\n",
    "import torch.nn.functional as F\n",
    "import torch.optim as optim\n",
    "import torch.utils.data\n",
    "torch.cuda.empty_cache()\n",
    "\n",
    "import scipy.interpolate\n",
    "%matplotlib inline\n",
    "\n",
    "from msg.utils import modcrop, normalize, resample, rgb2ycbcr\n",
    "\n",
    "if 'ipykernel' in sys.modules:\n",
    "    from tqdm import tqdm_notebook as tqdm\n",
    "else:\n",
    "    from tqdm import tqdm as tqdm\n",
    "# from pix_transform.pix_transform import PixTransform\n",
    "# from baselines.baselines import bicubic\n",
    "# from utils.utils import downsample,align_images\n",
    "# from prox_tv import tvgen\n",
    "# from utils.plots import plot_result\n"
   ]
  },
  {
   "cell_type": "markdown",
   "id": "df783bc0",
   "metadata": {},
   "source": [
    "### Get data"
   ]
  },
  {
   "cell_type": "code",
   "execution_count": 2,
   "id": "59897852",
   "metadata": {},
   "outputs": [
    {
     "data": {
      "text/plain": [
       "'/Users/felicity/Desktop'"
      ]
     },
     "execution_count": 2,
     "metadata": {},
     "output_type": "execute_result"
    }
   ],
   "source": [
    "directory = os.path.dirname(os.getcwd())\n",
    "directory"
   ]
  },
  {
   "cell_type": "code",
   "execution_count": 3,
   "id": "9faa2b85",
   "metadata": {},
   "outputs": [
    {
     "name": "stdout",
     "output_type": "stream",
     "text": [
      "25\n",
      "25\n"
     ]
    }
   ],
   "source": [
    "directory = '/Users/felicity/Desktop/Super-resolution-drones-depth-images/ICCV2019'\n",
    "rgb_dir = directory+'/EPFL_10_newsample_nadir/rgb/'\n",
    "_files = os.listdir(rgb_dir)\n",
    "_files.sort()\n",
    "_rgb_files = [rgb_dir + f for f in _files]\n",
    "_rgb_files.sort()\n",
    "print(len(_rgb_files))\n",
    "\n",
    "dist_dir = directory+'/EPFL_10_newsample_nadir/dist/'\n",
    "_files = os.listdir(dist_dir)\n",
    "_files.sort()\n",
    "_dist_files = [dist_dir + f for f in _files]\n",
    "_dist_files.sort()\n",
    "print(len(_dist_files))"
   ]
  },
  {
   "cell_type": "code",
   "execution_count": 4,
   "id": "b67b1428",
   "metadata": {},
   "outputs": [],
   "source": [
    "####  define parameters  ########################################################\n",
    "params = {'img_idxs' : [], # idx images to process, if empty then all of them\n",
    "            \n",
    "          'scaling': 40,\n",
    "          'greyscale': False, # Turn image into grey-scale\n",
    "          'channels': -1,\n",
    "          \n",
    "          'spatial_features_input': True,\n",
    "          'weights_regularizer': [0.0001, 0.001, 0.0001], # spatial color head\n",
    "          'loss': 'l1',\n",
    " \n",
    "          'optim': 'adam',\n",
    "          'lr': 0.001,\n",
    "                  \n",
    "          'batch_size': 32,\n",
    "          'iteration': 1024*12*18//32,\n",
    "                  \n",
    "          'logstep': 64,\n",
    "          \n",
    "          'final_TGV' : False, # Total Generalized Variation in post-processing\n",
    "          'align': False, # Move image around for evaluation in case guide image and target image are not perfectly aligned\n",
    "          'delta_PBP': 1, # Delta for percentage of bad pixels \n",
    "         }"
   ]
  },
  {
   "cell_type": "code",
   "execution_count": 5,
   "id": "3a516fd4",
   "metadata": {},
   "outputs": [],
   "source": [
    "def downsample(ar, factor):\n",
    "    kernel = np.full((factor, factor), 1 / (factor**2))\n",
    "    ar = scipy.signal.convolve2d(np.asarray(ar), kernel, mode='full')\n",
    "    ar = ar[factor-1::factor, factor-1::factor]\n",
    "    return ar"
   ]
  },
  {
   "cell_type": "code",
   "execution_count": 6,
   "id": "8353bff9",
   "metadata": {},
   "outputs": [
    {
     "name": "stdout",
     "output_type": "stream",
     "text": [
      "(25, 480, 720, 3)\n",
      "max value in the image is: 255\n",
      "min value in the image is: 0\n",
      "(25, 480, 720)\n",
      "max value in the image is: 97.91275\n",
      "min value in the image is: 44.26991\n",
      "(25, 12, 18)\n",
      "max value in the image is: 97.91275\n",
      "min value in the image is: 44.26991\n"
     ]
    }
   ],
   "source": [
    "guide_imgs = []\n",
    "target_imgs= []\n",
    "source_imgs= []\n",
    "\n",
    "for num in range(len(_rgb_files)):\n",
    "    rgb_img = imageio.imread(_rgb_files[num])\n",
    "    guide_imgs.append(rgb_img)\n",
    "    dist_img = torch.load(_dist_files[num])\n",
    "    dist_img = dist_img.detach().cpu().numpy()\n",
    "    target_imgs.append(dist_img)\n",
    "    source_imgs.append(downsample(dist_img,params['scaling']))\n",
    "        \n",
    "guide_imgs = np.asarray(guide_imgs)\n",
    "# guide_imgs = np.einsum('ijkl->iljk', guide_imgs)        \n",
    "target_imgs = np.asarray(target_imgs)\n",
    "source_imgs = np.asarray(source_imgs)\n",
    "\n",
    "print(guide_imgs.shape)\n",
    "print('max value in the image is: ' + str(guide_imgs.max()))\n",
    "print('min value in the image is: ' + str(guide_imgs.min()))\n",
    "print(target_imgs.shape)\n",
    "print('max value in the image is: ' + str(target_imgs.max()))\n",
    "print('min value in the image is: ' + str(target_imgs.min()))\n",
    "print(source_imgs.shape)\n",
    "print('max value in the image is: ' + str(target_imgs.max()))\n",
    "print('min value in the image is: ' + str(target_imgs.min()))"
   ]
  },
  {
   "cell_type": "code",
   "execution_count": 7,
   "id": "4d0cb70a",
   "metadata": {},
   "outputs": [],
   "source": [
    "device = torch.device(\"cuda\" if torch.cuda.is_available() else \"cpu\")\n",
    "guide_imgs = torch.from_numpy(guide_imgs).float().to(device)\n",
    "source_imgs = torch.from_numpy(source_imgs).float().to(device)\n",
    "target_imgs = torch.from_numpy(target_imgs).float().to(device)"
   ]
  },
  {
   "cell_type": "code",
   "execution_count": 8,
   "id": "6e942f70",
   "metadata": {},
   "outputs": [],
   "source": [
    "train_data = torch.utils.data.TensorDataset(guide_imgs, source_imgs, target_imgs)\n",
    "train_loader = torch.utils.data.DataLoader(train_data, batch_size=32, shuffle=True)"
   ]
  },
  {
   "cell_type": "code",
   "execution_count": null,
   "id": "979ea819",
   "metadata": {},
   "outputs": [],
   "source": []
  },
  {
   "cell_type": "markdown",
   "id": "ff76a712",
   "metadata": {},
   "source": [
    "### Train the model"
   ]
  },
  {
   "cell_type": "code",
   "execution_count": 9,
   "id": "5a137f8a",
   "metadata": {},
   "outputs": [
    {
     "ename": "NameError",
     "evalue": "name 'mynet' is not defined",
     "output_type": "error",
     "traceback": [
      "\u001b[0;31m---------------------------------------------------------------------------\u001b[0m",
      "\u001b[0;31mNameError\u001b[0m                                 Traceback (most recent call last)",
      "\u001b[0;32m/var/folders/4m/xc_zkxpd6knb_hgz3w17pzgr0000gn/T/ipykernel_74144/3417560153.py\u001b[0m in \u001b[0;36m<module>\u001b[0;34m\u001b[0m\n\u001b[0;32m----> 1\u001b[0;31m \u001b[0mmynet\u001b[0m\u001b[0;34m\u001b[0m\u001b[0;34m\u001b[0m\u001b[0m\n\u001b[0m",
      "\u001b[0;31mNameError\u001b[0m: name 'mynet' is not defined"
     ]
    }
   ],
   "source": [
    "mynet"
   ]
  },
  {
   "cell_type": "code",
   "execution_count": 10,
   "id": "1ac2ed04",
   "metadata": {},
   "outputs": [
    {
     "name": "stderr",
     "output_type": "stream",
     "text": [
      "/Library/Frameworks/Python.framework/Versions/3.7/lib/python3.7/site-packages/ipykernel_launcher.py:16: TqdmDeprecationWarning: This function will be removed in tqdm==5.0.0\n",
      "Please use `tqdm.notebook.tqdm` instead of `tqdm.tqdm_notebook`\n",
      "  app.launch_new_instance()\n"
     ]
    },
    {
     "data": {
      "application/vnd.jupyter.widget-view+json": {
       "model_id": "9bfdfa52f27c457487ef03cc8a554525",
       "version_major": 2,
       "version_minor": 0
      },
      "text/plain": [
       "  0%|          | 0/100 [00:00<?, ?it/s]"
      ]
     },
     "metadata": {},
     "output_type": "display_data"
    },
    {
     "ename": "RuntimeError",
     "evalue": "filter weights array has incorrect shape.",
     "output_type": "error",
     "traceback": [
      "\u001b[0;31m---------------------------------------------------------------------------\u001b[0m",
      "\u001b[0;31mRuntimeError\u001b[0m                              Traceback (most recent call last)",
      "\u001b[0;32m/var/folders/4m/xc_zkxpd6knb_hgz3w17pzgr0000gn/T/ipykernel_74144/981616430.py\u001b[0m in \u001b[0;36m<module>\u001b[0;34m\u001b[0m\n\u001b[1;32m     24\u001b[0m             \u001b[0moptimizer\u001b[0m\u001b[0;34m.\u001b[0m\u001b[0mzero_grad\u001b[0m\u001b[0;34m(\u001b[0m\u001b[0;34m)\u001b[0m\u001b[0;34m\u001b[0m\u001b[0;34m\u001b[0m\u001b[0m\n\u001b[1;32m     25\u001b[0m \u001b[0;34m\u001b[0m\u001b[0m\n\u001b[0;32m---> 26\u001b[0;31m             \u001b[0my_pred\u001b[0m \u001b[0;34m=\u001b[0m \u001b[0mmynet\u001b[0m\u001b[0;34m(\u001b[0m\u001b[0my\u001b[0m\u001b[0;34m,\u001b[0m\u001b[0mx\u001b[0m\u001b[0;34m)\u001b[0m\u001b[0;34m\u001b[0m\u001b[0;34m\u001b[0m\u001b[0m\n\u001b[0m\u001b[1;32m     27\u001b[0m \u001b[0;34m\u001b[0m\u001b[0m\n\u001b[1;32m     28\u001b[0m             \u001b[0mtrain_loss\u001b[0m \u001b[0;34m=\u001b[0m \u001b[0mmyloss\u001b[0m\u001b[0;34m(\u001b[0m\u001b[0my_pred\u001b[0m\u001b[0;34m,\u001b[0m \u001b[0mz\u001b[0m\u001b[0;34m)\u001b[0m\u001b[0;34m\u001b[0m\u001b[0;34m\u001b[0m\u001b[0m\n",
      "\u001b[0;32m/Library/Frameworks/Python.framework/Versions/3.7/lib/python3.7/site-packages/torch/nn/modules/module.py\u001b[0m in \u001b[0;36m_call_impl\u001b[0;34m(self, *input, **kwargs)\u001b[0m\n\u001b[1;32m   1100\u001b[0m         if not (self._backward_hooks or self._forward_hooks or self._forward_pre_hooks or _global_backward_hooks\n\u001b[1;32m   1101\u001b[0m                 or _global_forward_hooks or _global_forward_pre_hooks):\n\u001b[0;32m-> 1102\u001b[0;31m             \u001b[0;32mreturn\u001b[0m \u001b[0mforward_call\u001b[0m\u001b[0;34m(\u001b[0m\u001b[0;34m*\u001b[0m\u001b[0minput\u001b[0m\u001b[0;34m,\u001b[0m \u001b[0;34m**\u001b[0m\u001b[0mkwargs\u001b[0m\u001b[0;34m)\u001b[0m\u001b[0;34m\u001b[0m\u001b[0;34m\u001b[0m\u001b[0m\n\u001b[0m\u001b[1;32m   1103\u001b[0m         \u001b[0;31m# Do not call functions when jit is used\u001b[0m\u001b[0;34m\u001b[0m\u001b[0;34m\u001b[0m\u001b[0;34m\u001b[0m\u001b[0m\n\u001b[1;32m   1104\u001b[0m         \u001b[0mfull_backward_hooks\u001b[0m\u001b[0;34m,\u001b[0m \u001b[0mnon_full_backward_hooks\u001b[0m \u001b[0;34m=\u001b[0m \u001b[0;34m[\u001b[0m\u001b[0;34m]\u001b[0m\u001b[0;34m,\u001b[0m \u001b[0;34m[\u001b[0m\u001b[0;34m]\u001b[0m\u001b[0;34m\u001b[0m\u001b[0;34m\u001b[0m\u001b[0m\n",
      "\u001b[0;32m~/Desktop/MSG_TOPO/src/msg/msg.py\u001b[0m in \u001b[0;36mforward\u001b[0;34m(self, lr_disparity_normalized, luma_normalized)\u001b[0m\n\u001b[1;32m     63\u001b[0m         \u001b[0;31m# normalizing depth map and saving min_depth max_depth for future test\u001b[0m\u001b[0;34m\u001b[0m\u001b[0;34m\u001b[0m\u001b[0;34m\u001b[0m\u001b[0m\n\u001b[1;32m     64\u001b[0m         \u001b[0;32mfor\u001b[0m \u001b[0mi\u001b[0m \u001b[0;32min\u001b[0m \u001b[0mrange\u001b[0m\u001b[0;34m(\u001b[0m\u001b[0mlr_disparity_normalized\u001b[0m\u001b[0;34m.\u001b[0m\u001b[0mshape\u001b[0m\u001b[0;34m[\u001b[0m\u001b[0;36m0\u001b[0m\u001b[0;34m]\u001b[0m\u001b[0;34m)\u001b[0m\u001b[0;34m:\u001b[0m\u001b[0;34m\u001b[0m\u001b[0;34m\u001b[0m\u001b[0m\n\u001b[0;32m---> 65\u001b[0;31m             \u001b[0mim_Dl_LF\u001b[0m\u001b[0;34m[\u001b[0m\u001b[0mi\u001b[0m\u001b[0;34m]\u001b[0m \u001b[0;34m=\u001b[0m \u001b[0mconvolve\u001b[0m\u001b[0;34m(\u001b[0m\u001b[0mlr_disparity_normalized\u001b[0m\u001b[0;34m[\u001b[0m\u001b[0mi\u001b[0m\u001b[0;34m]\u001b[0m\u001b[0;34m[\u001b[0m\u001b[0;36m0\u001b[0m\u001b[0;34m]\u001b[0m\u001b[0;34m,\u001b[0m \u001b[0mh\u001b[0m\u001b[0;34m,\u001b[0m \u001b[0mmode\u001b[0m\u001b[0;34m=\u001b[0m\u001b[0;34m'reflect'\u001b[0m\u001b[0;34m)\u001b[0m\u001b[0;34m\u001b[0m\u001b[0;34m\u001b[0m\u001b[0m\n\u001b[0m\u001b[1;32m     66\u001b[0m \u001b[0;34m\u001b[0m\u001b[0m\n\u001b[1;32m     67\u001b[0m         \u001b[0min_D\u001b[0m \u001b[0;34m=\u001b[0m \u001b[0mtorch\u001b[0m\u001b[0;34m.\u001b[0m\u001b[0mfrom_numpy\u001b[0m\u001b[0;34m(\u001b[0m\u001b[0mlr_disparity_normalized\u001b[0m \u001b[0;34m-\u001b[0m \u001b[0mim_Dl_LF\u001b[0m\u001b[0;34m)\u001b[0m\u001b[0;34m.\u001b[0m\u001b[0mto\u001b[0m\u001b[0;34m(\u001b[0m\u001b[0mself\u001b[0m\u001b[0;34m.\u001b[0m\u001b[0mweights\u001b[0m\u001b[0;34m)\u001b[0m\u001b[0;34m\u001b[0m\u001b[0;34m\u001b[0m\u001b[0m\n",
      "\u001b[0;32m/Library/Frameworks/Python.framework/Versions/3.7/lib/python3.7/site-packages/scipy/ndimage/filters.py\u001b[0m in \u001b[0;36mconvolve\u001b[0;34m(input, weights, output, mode, cval, origin)\u001b[0m\n\u001b[1;32m    857\u001b[0m     \"\"\"\n\u001b[1;32m    858\u001b[0m     return _correlate_or_convolve(input, weights, output, mode, cval,\n\u001b[0;32m--> 859\u001b[0;31m                                   origin, True)\n\u001b[0m\u001b[1;32m    860\u001b[0m \u001b[0;34m\u001b[0m\u001b[0m\n\u001b[1;32m    861\u001b[0m \u001b[0;34m\u001b[0m\u001b[0m\n",
      "\u001b[0;32m/Library/Frameworks/Python.framework/Versions/3.7/lib/python3.7/site-packages/scipy/ndimage/filters.py\u001b[0m in \u001b[0;36m_correlate_or_convolve\u001b[0;34m(input, weights, output, mode, cval, origin, convolution)\u001b[0m\n\u001b[1;32m    660\u001b[0m     \u001b[0mwshape\u001b[0m \u001b[0;34m=\u001b[0m \u001b[0;34m[\u001b[0m\u001b[0mii\u001b[0m \u001b[0;32mfor\u001b[0m \u001b[0mii\u001b[0m \u001b[0;32min\u001b[0m \u001b[0mweights\u001b[0m\u001b[0;34m.\u001b[0m\u001b[0mshape\u001b[0m \u001b[0;32mif\u001b[0m \u001b[0mii\u001b[0m \u001b[0;34m>\u001b[0m \u001b[0;36m0\u001b[0m\u001b[0;34m]\u001b[0m\u001b[0;34m\u001b[0m\u001b[0;34m\u001b[0m\u001b[0m\n\u001b[1;32m    661\u001b[0m     \u001b[0;32mif\u001b[0m \u001b[0mlen\u001b[0m\u001b[0;34m(\u001b[0m\u001b[0mwshape\u001b[0m\u001b[0;34m)\u001b[0m \u001b[0;34m!=\u001b[0m \u001b[0minput\u001b[0m\u001b[0;34m.\u001b[0m\u001b[0mndim\u001b[0m\u001b[0;34m:\u001b[0m\u001b[0;34m\u001b[0m\u001b[0;34m\u001b[0m\u001b[0m\n\u001b[0;32m--> 662\u001b[0;31m         \u001b[0;32mraise\u001b[0m \u001b[0mRuntimeError\u001b[0m\u001b[0;34m(\u001b[0m\u001b[0;34m'filter weights array has incorrect shape.'\u001b[0m\u001b[0;34m)\u001b[0m\u001b[0;34m\u001b[0m\u001b[0;34m\u001b[0m\u001b[0m\n\u001b[0m\u001b[1;32m    663\u001b[0m     \u001b[0;32mif\u001b[0m \u001b[0mconvolution\u001b[0m\u001b[0;34m:\u001b[0m\u001b[0;34m\u001b[0m\u001b[0;34m\u001b[0m\u001b[0m\n\u001b[1;32m    664\u001b[0m         \u001b[0mweights\u001b[0m \u001b[0;34m=\u001b[0m \u001b[0mweights\u001b[0m\u001b[0;34m[\u001b[0m\u001b[0mtuple\u001b[0m\u001b[0;34m(\u001b[0m\u001b[0;34m[\u001b[0m\u001b[0mslice\u001b[0m\u001b[0;34m(\u001b[0m\u001b[0;32mNone\u001b[0m\u001b[0;34m,\u001b[0m \u001b[0;32mNone\u001b[0m\u001b[0;34m,\u001b[0m \u001b[0;34m-\u001b[0m\u001b[0;36m1\u001b[0m\u001b[0;34m)\u001b[0m\u001b[0;34m]\u001b[0m \u001b[0;34m*\u001b[0m \u001b[0mweights\u001b[0m\u001b[0;34m.\u001b[0m\u001b[0mndim\u001b[0m\u001b[0;34m)\u001b[0m\u001b[0;34m]\u001b[0m\u001b[0;34m\u001b[0m\u001b[0;34m\u001b[0m\u001b[0m\n",
      "\u001b[0;31mRuntimeError\u001b[0m: filter weights array has incorrect shape."
     ]
    }
   ],
   "source": [
    "# define the optimization\n",
    "mynet = MSGNet(40).train().to(device)\n",
    "#     mynet = PixTransformNet(channels_in=guide_img.shape[0],\n",
    "#                             weights_regularizer=params['weights_regularizer']).train().to(device)\n",
    "optimizer = optim.Adam(mynet.parameters(), lr=params['lr'])\n",
    "if params['loss'] == 'mse':\n",
    "    myloss = torch.nn.MSELoss()\n",
    "elif params['loss'] == 'l1':\n",
    "    myloss = torch.nn.L1Loss()\n",
    "else:\n",
    "    print(\"unknown loss!\")\n",
    "\n",
    "epochs = 100\n",
    "mse_values = []\n",
    "mae_values = []\n",
    "with tqdm(range(0, epochs), leave=True) as tnr:\n",
    "    tnr.set_postfix(consistency=-1.)\n",
    "    for epoch in tnr:\n",
    "        running_loss = 0.0\n",
    "        loss_values = []\n",
    "        \n",
    "        # x = guide (rgb), y = source (lr), z = target (hr) \n",
    "        for (x, y, z) in train_loader:\n",
    "            optimizer.zero_grad()\n",
    "\n",
    "            y_pred = mynet(y,x)\n",
    "\n",
    "            train_loss = myloss(y_pred, z)\n",
    "\n",
    "            train_loss.backward()\n",
    "            optimizer.step()\n",
    "\n",
    "            loss_values.append(train_loss.cpu().detach().numpy())\n",
    "    loss_values_array = np.array(loss_values)\n",
    "    print(loss_values_array.shape)\n",
    "    print(loss_values_array)\n",
    "    plt.figure()\n",
    "    plt.plot(loss_values_array)\n",
    "    plt.title(\"loss during training according to \" + params['loss'] + \" loss parameter\")\n",
    "\n",
    "#     mse_values_array = np.array(mse_values)\n",
    "#     print(\"----------MSE----------\")\n",
    "#     print(mse_values_array.shape)\n",
    "#     print(mse_values_array)\n",
    "#     plt.figure()\n",
    "#     plt.plot(mse_values_array)\n",
    "#     plt.title(\"MSE loss, when target image is given\")\n",
    "\n",
    "#     mae_values_array = np.array(mae_values)\n",
    "#     print(\"----------MAE----------\")\n",
    "#     print(mae_values_array.shape)\n",
    "#     print(mae_values_array)\n",
    "#     plt.figure()\n",
    "#     plt.plot(mae_values_array)\n",
    "#     plt.title(\"MAE loss, when target image is given\")\n",
    "\n",
    "# save the trained network\n",
    "save_path = directory+'/saved_model_MSG_temp'+str(constant + idx)+'.pt'\n",
    "# check if the directory exist\n",
    "os.makedirs(os.path.dirname(save_path),exist_ok=True)\n",
    "torch.save(mynet.state_dict(), save_path)    \n",
    "\n"
   ]
  },
  {
   "cell_type": "code",
   "execution_count": null,
   "id": "ae011736",
   "metadata": {},
   "outputs": [],
   "source": [
    "# compute final prediction, un-normalize, and back to numpy\n",
    "mynet.eval()\n",
    "predicted_target_img = mynet(guide_img).squeeze()\n",
    "predicted_target_img = source_img_mean + source_img_std * predicted_target_img\n",
    "predicted_target_img = predicted_target_img.cpu().detach().squeeze().numpy()\n"
   ]
  },
  {
   "cell_type": "code",
   "execution_count": null,
   "id": "3f2e9707",
   "metadata": {},
   "outputs": [],
   "source": [
    "# some random code\n",
    "# define the optimization\n",
    "criterion = MSELoss()\n",
    "optimizer = SGD(model.parameters(), lr=0.01, momentum=0.9)\n",
    "# enumerate epochs\n",
    "for epoch in range(100):\n",
    "    # enumerate mini batches\n",
    "    for i, (inputs, targets) in enumerate(train_dl):\n",
    "    \t...\n",
    "# clear the gradients\n",
    "optimizer.zero_grad()\n",
    "# compute the model output\n",
    "yhat = model(inputs)\n",
    "# calculate loss\n",
    "loss = criterion(yhat, targets)\n",
    "# credit assignment\n",
    "loss.backward()\n",
    "# update model weights\n",
    "optimizer.step()\n",
    "#show the output of the model\n",
    "# convert row to data\n",
    "row = Variable(Tensor([row]).float())\n",
    "# make prediction\n",
    "yhat = model(row)\n",
    "# retrieve numpy array\n",
    "yhat = yhat.detach().numpy()"
   ]
  },
  {
   "cell_type": "code",
   "execution_count": null,
   "id": "afc6234e",
   "metadata": {},
   "outputs": [],
   "source": []
  },
  {
   "cell_type": "code",
   "execution_count": null,
   "id": "83611e1d",
   "metadata": {},
   "outputs": [],
   "source": []
  },
  {
   "cell_type": "code",
   "execution_count": null,
   "id": "0fb89fac",
   "metadata": {},
   "outputs": [],
   "source": []
  },
  {
   "cell_type": "code",
   "execution_count": null,
   "id": "35235a8b",
   "metadata": {},
   "outputs": [],
   "source": []
  },
  {
   "cell_type": "code",
   "execution_count": null,
   "id": "f18d0e6a",
   "metadata": {},
   "outputs": [],
   "source": [
    "### Test the model\n",
    "model = MSGNet(4)\n",
    "model.load_state_dict(torch.load('checkpoints/x4_clean.pth')['model_state_dict'])\n",
    "for sample in data.keys():\n",
    "    data[sample]['sr4_disparity'] = model.test(data[sample]['lr4_disparity'], data[sample]['rgb'])\n",
    "\n"
   ]
  },
  {
   "cell_type": "code",
   "execution_count": null,
   "id": "4c5bc282",
   "metadata": {},
   "outputs": [],
   "source": []
  },
  {
   "cell_type": "code",
   "execution_count": null,
   "id": "77895e02",
   "metadata": {},
   "outputs": [],
   "source": []
  },
  {
   "cell_type": "code",
   "execution_count": null,
   "id": "81eee2b4",
   "metadata": {},
   "outputs": [],
   "source": []
  },
  {
   "cell_type": "code",
   "execution_count": null,
   "id": "61df09d5",
   "metadata": {},
   "outputs": [],
   "source": []
  },
  {
   "cell_type": "code",
   "execution_count": null,
   "id": "66737933",
   "metadata": {},
   "outputs": [],
   "source": []
  },
  {
   "cell_type": "code",
   "execution_count": null,
   "id": "11c46d7c",
   "metadata": {},
   "outputs": [],
   "source": []
  },
  {
   "cell_type": "code",
   "execution_count": null,
   "id": "9bd7d85e",
   "metadata": {},
   "outputs": [],
   "source": []
  },
  {
   "cell_type": "code",
   "execution_count": null,
   "id": "2b3116c1",
   "metadata": {},
   "outputs": [],
   "source": []
  },
  {
   "cell_type": "code",
   "execution_count": null,
   "id": "06775a38",
   "metadata": {},
   "outputs": [],
   "source": []
  },
  {
   "cell_type": "code",
   "execution_count": null,
   "id": "72433b94",
   "metadata": {},
   "outputs": [],
   "source": []
  },
  {
   "cell_type": "code",
   "execution_count": null,
   "id": "a445dda1",
   "metadata": {},
   "outputs": [],
   "source": []
  },
  {
   "cell_type": "code",
   "execution_count": null,
   "id": "30687e5d",
   "metadata": {},
   "outputs": [],
   "source": []
  },
  {
   "cell_type": "code",
   "execution_count": null,
   "id": "1e4686f0",
   "metadata": {},
   "outputs": [],
   "source": []
  },
  {
   "cell_type": "code",
   "execution_count": null,
   "id": "8e783ba4",
   "metadata": {},
   "outputs": [],
   "source": []
  },
  {
   "cell_type": "code",
   "execution_count": null,
   "id": "a562736e",
   "metadata": {},
   "outputs": [],
   "source": []
  },
  {
   "cell_type": "code",
   "execution_count": null,
   "id": "4299b6c4",
   "metadata": {},
   "outputs": [],
   "source": []
  }
 ],
 "metadata": {
  "kernelspec": {
   "display_name": "Python 3 (ipykernel)",
   "language": "python",
   "name": "python3"
  },
  "language_info": {
   "codemirror_mode": {
    "name": "ipython",
    "version": 3
   },
   "file_extension": ".py",
   "mimetype": "text/x-python",
   "name": "python",
   "nbconvert_exporter": "python",
   "pygments_lexer": "ipython3",
   "version": "3.7.6"
  }
 },
 "nbformat": 4,
 "nbformat_minor": 5
}
